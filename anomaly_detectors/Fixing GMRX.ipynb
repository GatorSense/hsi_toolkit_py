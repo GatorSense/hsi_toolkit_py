{
 "cells": [
  {
   "cell_type": "code",
   "execution_count": 1,
   "metadata": {},
   "outputs": [],
   "source": [
    "import sys\n",
    "from scipy.io import loadmat\n",
    "import matplotlib.pyplot as plt\n",
    "sys.path.append('../')\n",
    "sys.path.append('../util/')\n",
    "from anomaly_detectors import *\n",
    "from get_RGB import get_RGB"
   ]
  },
  {
   "cell_type": "code",
   "execution_count": 2,
   "metadata": {},
   "outputs": [],
   "source": [
    "\"\"\"\n",
    "Demo script that runs all anomaly detectors in hsi_toolkit_py using example sub MUUFL Gulfport data\n",
    "\n",
    "Inputs:\n",
    "\thsi_img_sub - n_row x n_col x n_band hyperspectral image\n",
    "\twavelengths - n_band x 1 vector listing wavelength values for hsi_img in nm\n",
    "\tmask_sub - n_row x n_col binary image limiting detector operation to pixels where mask is true\n",
    "\t\t       if not present or empty, no mask restrictions are used\n",
    "Outputs:\n",
    "\tdet_out - dictionary of detector output images\n",
    "\n",
    "5/5/2018 - Alina Zare\n",
    "10/1/2018 - Python Implementation by Yutai Zhou\n",
    "\"\"\"\n",
    "an_hsi_image_sub_for_demo = loadmat('an_hsi_image_sub_for_demo.mat')\n",
    "hsi_img_sub = an_hsi_image_sub_for_demo['hsi_img_sub']\n",
    "wavelengths = an_hsi_image_sub_for_demo['wavelengths']\n",
    "mask_sub = an_hsi_image_sub_for_demo['mask_sub']\n",
    "\n",
    "det_out = {}\n",
    "det_out['RGB'] = get_RGB(hsi_img_sub, wavelengths)\n",
    "det_out['Valid Mask'] = mask_sub\n",
    "\n",
    "# init detector args\n",
    "guard_win = 3; bg_win = 3; n_dim_ss = 3"
   ]
  },
  {
   "cell_type": "code",
   "execution_count": 3,
   "metadata": {},
   "outputs": [],
   "source": [
    "def gmrx_anomaly(hsi_img, n_comp, mask = None):\n",
    "    \"\"\"\n",
    "    Gaussian Mixture RX Anomaly Detector\n",
    "    fits GMM assuming entire image is background\n",
    "    assigns pixels to highest posterior probability mixture component\n",
    "    computes pixel Mahlanobis distance to component mean\n",
    "\n",
    "    Inputs:\n",
    "    hsi_image - n_row x n_col x n_band hyperspectral image\n",
    "    mask - binary image limiting detector operation to pixels where mask is true\n",
    "       if not present or empty, no mask restrictions are used\n",
    "    n_comp - number of Gaussian components to use\n",
    "\n",
    "    Outputs:\n",
    "     gmrx_out - detector output image\n",
    "\n",
    "    8/7/2012 - Taylor C. Glenn - tcg@cise.ufl.edu\n",
    "    5/5/2018 - Edited by Alina Zare\n",
    "    11/2018 - Python Implementation by Yutai Zhou\n",
    "    \"\"\"\n",
    "    gmm_out, kwargsout = img_det(gmrx_helper, hsi_img,  , mask, n_comp = n_comp)\n",
    "    return gmm_out\n",
    "\n",
    "def gmrx_helper(hsi_data, tgt_sig, kwargs):\n",
    "    n_comp = kwargs['n_comp']\n",
    "    n_pixel = hsi_data.shape[1]\n",
    "    gmm = GaussianMixture(n_components = n_comp, max_iter = 1, init_params = 'random').fit(hsi_data.T)\n",
    "\n",
    "    # cluster/assign mixture component to each pixel, get Mahalanobis distance to components\n",
    "    idx = gmm.predict(hsi_data.T)\n",
    "    \n",
    "    return idx, {}\n",
    "    #gmrx_data = np.zeros(n_pixel)\n",
    "    #for i in range(n_pixel):\n",
    "     #   gmrx_data[i] = idx[i]\n",
    "        \n",
    "    #return gmrx_data"
   ]
  },
  {
   "cell_type": "code",
   "execution_count": null,
   "metadata": {},
   "outputs": [],
   "source": []
  },
  {
   "cell_type": "code",
   "execution_count": 4,
   "metadata": {},
   "outputs": [
    {
     "name": "stderr",
     "output_type": "stream",
     "text": [
      "/usr/local/anaconda3/envs/bioinfo3/lib/python3.6/site-packages/sklearn/mixture/base.py:237: ConvergenceWarning: Initialization 1 did not converge. Try different init parameters, or increase max_iter, tol or check for degenerate data.\n",
      "  % (init + 1), ConvergenceWarning)\n"
     ]
    },
    {
     "data": {
      "text/plain": [
       "array([[0.00000000e+000, 1.00000000e+000, 5.00000000e+000, ...,\n",
       "        2.00000000e+000, 4.00000000e+000, 4.00000000e+000],\n",
       "       [0.00000000e+000, 5.00000000e+000, 1.00000000e+000, ...,\n",
       "        1.00000000e+000, 0.00000000e+000, 2.00000000e+000],\n",
       "       [0.00000000e+000, 0.00000000e+000, 0.00000000e+000, ...,\n",
       "        2.00000000e+000, 7.00000000e+000, 2.00000000e+000],\n",
       "       ...,\n",
       "       [3.00000000e+000, 5.00000000e+000, 0.00000000e+000, ...,\n",
       "        6.92515209e-310, 6.92515209e-310, 6.92515259e-310],\n",
       "       [1.00000000e+000, 0.00000000e+000, 1.00000000e+000, ...,\n",
       "        2.36121535e-001, 3.27630758e-001, 5.15170097e-001],\n",
       "       [7.00000000e+000, 0.00000000e+000, 1.00000000e+000, ...,\n",
       "        4.68335762e-310, 4.68335762e-310, 4.68335762e-310]])"
      ]
     },
     "execution_count": 4,
     "metadata": {},
     "output_type": "execute_result"
    }
   ],
   "source": [
    "gmrx_anomaly(hsi_img_sub, n_comp = 8, mask = mask_sub)"
   ]
  },
  {
   "cell_type": "code",
   "execution_count": null,
   "metadata": {},
   "outputs": [],
   "source": []
  }
 ],
 "metadata": {
  "kernelspec": {
   "display_name": "Python 3 (conda)",
   "language": "python",
   "name": "python3_bioinfo"
  },
  "language_info": {
   "codemirror_mode": {
    "name": "ipython",
    "version": 3
   },
   "file_extension": ".py",
   "mimetype": "text/x-python",
   "name": "python",
   "nbconvert_exporter": "python",
   "pygments_lexer": "ipython3",
   "version": "3.6.7"
  }
 },
 "nbformat": 4,
 "nbformat_minor": 2
}
