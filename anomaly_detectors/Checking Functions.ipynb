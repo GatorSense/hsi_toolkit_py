{
 "cells": [
  {
   "cell_type": "code",
   "execution_count": 1,
   "metadata": {},
   "outputs": [],
   "source": [
    "import sys\n",
    "from scipy.io import loadmat\n",
    "import matplotlib.pyplot as plt\n",
    "sys.path.append('../')\n",
    "sys.path.append('../util/')\n",
    "from anomaly_detectors import *\n",
    "from get_RGB import get_RGB"
   ]
  },
  {
   "cell_type": "code",
   "execution_count": 2,
   "metadata": {},
   "outputs": [],
   "source": [
    "\"\"\"\n",
    "Demo script that runs all anomaly detectors in hsi_toolkit_py using example sub MUUFL Gulfport data\n",
    "\n",
    "Inputs:\n",
    "\thsi_img_sub - n_row x n_col x n_band hyperspectral image\n",
    "\twavelengths - n_band x 1 vector listing wavelength values for hsi_img in nm\n",
    "\tmask_sub - n_row x n_col binary image limiting detector operation to pixels where mask is true\n",
    "\t\t       if not present or empty, no mask restrictions are used\n",
    "Outputs:\n",
    "\tdet_out - dictionary of detector output images\n",
    "\n",
    "5/5/2018 - Alina Zare\n",
    "10/1/2018 - Python Implementation by Yutai Zhou\n",
    "\"\"\"\n",
    "an_hsi_image_sub_for_demo = loadmat('an_hsi_image_sub_for_demo.mat')\n",
    "hsi_img_sub = an_hsi_image_sub_for_demo['hsi_img_sub']\n",
    "wavelengths = an_hsi_image_sub_for_demo['wavelengths']\n",
    "mask_sub = an_hsi_image_sub_for_demo['mask_sub']\n",
    "\n",
    "det_out = {}\n",
    "det_out['RGB'] = get_RGB(hsi_img_sub, wavelengths)\n",
    "det_out['Valid Mask'] = mask_sub\n",
    "\n",
    "# init detector args\n",
    "guard_win = 3; bg_win = 3; n_dim_ss = 3\n",
    "\n"
   ]
  },
  {
   "cell_type": "code",
   "execution_count": 3,
   "metadata": {},
   "outputs": [
    {
     "data": {
      "text/plain": [
       "array([[-8.65505015e-001, -2.29659083e+000, -3.88925006e+000, ...,\n",
       "        -7.33436924e+000, -6.49409840e+000, -1.10972743e+001],\n",
       "       [-3.75637651e+000, -1.06676271e+000, -6.44667667e+000, ...,\n",
       "        -5.60347049e+000, -9.26641758e+000, -7.64761993e+000],\n",
       "       [-7.38169665e+000, -8.27381525e+000, -1.09282486e+001, ...,\n",
       "        -4.35883567e+000, -1.01967118e+001, -5.42035786e+000],\n",
       "       ...,\n",
       "       [-1.31414387e+001, -1.29507394e+001, -1.05430892e+001, ...,\n",
       "         2.53343403e-001,  6.92936506e-310,  6.92942324e-310],\n",
       "       [-1.33264496e+001, -1.26385737e+001, -9.79077355e+000, ...,\n",
       "         2.36121580e-001,  3.27630758e-001,  5.15170097e-001],\n",
       "       [-9.51843206e+000, -8.51589538e+000, -9.49738929e+000, ...,\n",
       "         2.11899951e-001,  4.66183245e-310,  4.66183245e-310]])"
      ]
     },
     "execution_count": 3,
     "metadata": {},
     "output_type": "execute_result"
    }
   ],
   "source": [
    "beta_anomaly(hsi_img_sub, mask_sub)"
   ]
  },
  {
   "cell_type": "code",
   "execution_count": 4,
   "metadata": {},
   "outputs": [
    {
     "data": {
      "text/plain": [
       "(array([[6.34390971e+001, 7.26454452e+001, 6.90807349e+001, ...,\n",
       "         7.26804744e+001, 7.61623480e+001, 9.22397692e+001],\n",
       "        [6.91675218e+001, 8.27992456e+001, 6.90712452e+001, ...,\n",
       "         9.04970122e+001, 6.13342326e+001, 9.65824915e+001],\n",
       "        [6.38799826e+001, 7.72854143e+001, 6.70122374e+001, ...,\n",
       "         5.16679127e+001, 8.66723307e+001, 4.92313919e+001],\n",
       "        ...,\n",
       "        [8.09959628e+001, 7.14677928e+001, 8.20934857e+001, ...,\n",
       "         4.94065646e-324, 4.94065646e-324, 4.94065646e-324],\n",
       "        [5.95038680e+001, 6.80608006e+001, 7.43242957e+001, ...,\n",
       "         4.94065646e-324, 4.94065646e-324, 0.00000000e+000],\n",
       "        [8.03351462e+001, 7.20985039e+001, 5.68161672e+001, ...,\n",
       "         0.00000000e+000, 0.00000000e+000, 0.00000000e+000]]),\n",
       " array([[4., 4., 4., ..., 3., 1., 3.],\n",
       "        [4., 4., 4., ..., 1., 3., 3.],\n",
       "        [4., 4., 4., ..., 1., 3., 1.],\n",
       "        ...,\n",
       "        [0., 0., 3., ..., 0., 0., 0.],\n",
       "        [0., 0., 2., ..., 0., 0., 0.],\n",
       "        [2., 2., 2., ..., 0., 0., 0.]]))"
      ]
     },
     "execution_count": 4,
     "metadata": {},
     "output_type": "execute_result"
    }
   ],
   "source": [
    "cbad_anomaly(hsi_img_sub, 8, mask_sub)"
   ]
  },
  {
   "cell_type": "code",
   "execution_count": 5,
   "metadata": {},
   "outputs": [
    {
     "data": {
      "text/plain": [
       "array([[ 62.44307326,  77.18638251, 102.98108475, ...,  68.07127842,\n",
       "         56.80642228,  89.22147864],\n",
       "       [ 60.74628294, 123.5138241 ,  98.10229255, ...,  62.0737956 ,\n",
       "         61.7980405 ,  81.15601771],\n",
       "       [ 63.40347374,  80.05027446,  70.12104273, ...,  46.51785059,\n",
       "         98.61942553,  42.2044456 ],\n",
       "       ...,\n",
       "       [ 91.70876986,  74.93250248,  89.81804087, ...,   0.5074368 ,\n",
       "          0.5074368 ,   0.5074368 ],\n",
       "       [ 78.57308805,  71.127236  ,  77.82113508, ...,   0.5074368 ,\n",
       "          0.5074368 ,   0.5074368 ],\n",
       "       [ 97.65627587,  87.19779028,  70.49891391, ...,   0.5074368 ,\n",
       "          0.5074368 ,   0.5074368 ]])"
      ]
     },
     "execution_count": 5,
     "metadata": {},
     "output_type": "execute_result"
    }
   ],
   "source": [
    "csd_anomaly(hsi_img_sub, 3, None, True)"
   ]
  },
  {
   "cell_type": "code",
   "execution_count": 6,
   "metadata": {},
   "outputs": [
    {
     "data": {
      "text/plain": [
       "(array([[ 3.36230201e-002,  3.64763965e-002,  2.76973439e-002, ...,\n",
       "          1.56771724e-002,  1.54187267e-002,  1.73187509e-002],\n",
       "        [ 3.48565612e-002,  3.11697462e-002,  1.93176118e-002, ...,\n",
       "          8.15206957e-003,  1.10854700e-002,  1.52895540e-002],\n",
       "        [ 1.69423377e-002,  6.62080739e-003,  1.04789573e-002, ...,\n",
       "          2.95219710e-003,  1.27387187e-002,  4.74126264e-003],\n",
       "        ...,\n",
       "        [ 7.47519453e-003,  1.17312023e-002,  2.02777456e-002, ...,\n",
       "         -3.18975365e-003,  6.92936668e-310,  6.92943364e-310],\n",
       "        [ 2.63743843e-002,  5.77929650e-002,  1.28738846e-002, ...,\n",
       "          3.88958458e-003,  4.51743305e-002, -2.68729925e-001],\n",
       "        [ 1.07188968e-002,  1.50164865e-002,  2.25642493e-003, ...,\n",
       "          2.39018847e-003,  4.66183245e-310,  4.66183245e-310]]),\n",
       " array([[0.28779455, 0.39881933, 0.55223393, ..., 0.5070704 , 0.55119475,\n",
       "         0.45794762],\n",
       "        [0.36250664, 0.5257644 , 0.66837758, ..., 0.81684106, 0.73768097,\n",
       "         0.56461063],\n",
       "        [0.68539998, 0.85804697, 0.79238414, ..., 0.93395512, 0.68636437,\n",
       "         0.89928195],\n",
       "        ...,\n",
       "        [0.89173194, 0.81710385, 0.42033331, ..., 0.        , 0.        ,\n",
       "         0.        ],\n",
       "        [0.7544298 , 0.35543672, 0.61399815, ..., 0.        , 0.        ,\n",
       "         0.        ],\n",
       "        [0.71657691, 0.77229275, 0.89243435, ..., 0.        , 0.        ,\n",
       "         0.        ]]))"
      ]
     },
     "execution_count": 6,
     "metadata": {},
     "output_type": "execute_result"
    }
   ],
   "source": [
    "fcbad_anomaly(hsi_img_sub, 8, mask_sub)"
   ]
  },
  {
   "cell_type": "code",
   "execution_count": 7,
   "metadata": {},
   "outputs": [
    {
     "name": "stderr",
     "output_type": "stream",
     "text": [
      "/usr/local/anaconda3/envs/bioinfo3/lib/python3.6/site-packages/sklearn/mixture/base.py:237: ConvergenceWarning: Initialization 1 did not converge. Try different init parameters, or increase max_iter, tol or check for degenerate data.\n",
      "  % (init + 1), ConvergenceWarning)\n"
     ]
    },
    {
     "data": {
      "text/plain": [
       "array([[-262.87357472, -255.28874567, -251.09349162, ..., -259.44278038,\n",
       "        -267.02317017, -250.53450833],\n",
       "       [-264.58958692, -247.32024833, -253.79030333, ..., -259.64107883,\n",
       "        -264.55558692, -254.53537987],\n",
       "       [-261.09144786, -255.6801279 , -260.09593972, ..., -271.29735344,\n",
       "        -249.17431589, -272.58282804],\n",
       "       ...,\n",
       "       [-252.10984303, -254.4988696 , -253.88909096, ...,    0.        ,\n",
       "           0.        ,    0.        ],\n",
       "       [-255.7441184 , -257.01940492, -255.66226913, ...,    0.        ,\n",
       "           0.        ,    0.        ],\n",
       "       [-251.19012625, -253.91255107, -259.64831156, ...,    0.        ,\n",
       "           0.        ,    0.        ]])"
      ]
     },
     "execution_count": 7,
     "metadata": {},
     "output_type": "execute_result"
    }
   ],
   "source": [
    "gmm_anomaly(hsi_img_sub, n_comp = 8, mask = mask_sub)"
   ]
  },
  {
   "cell_type": "code",
   "execution_count": 8,
   "metadata": {},
   "outputs": [
    {
     "name": "stderr",
     "output_type": "stream",
     "text": [
      "/usr/local/anaconda3/envs/bioinfo3/lib/python3.6/site-packages/sklearn/mixture/base.py:237: ConvergenceWarning: Initialization 1 did not converge. Try different init parameters, or increase max_iter, tol or check for degenerate data.\n",
      "  % (init + 1), ConvergenceWarning)\n"
     ]
    },
    {
     "ename": "TypeError",
     "evalue": "'NoneType' object is not iterable",
     "output_type": "error",
     "traceback": [
      "\u001b[0;31m---------------------------------------------------------------------------\u001b[0m",
      "\u001b[0;31mTypeError\u001b[0m                                 Traceback (most recent call last)",
      "\u001b[0;32m<ipython-input-8-97c76617e125>\u001b[0m in \u001b[0;36m<module>\u001b[0;34m()\u001b[0m\n\u001b[0;32m----> 1\u001b[0;31m \u001b[0mgmrx_anomaly\u001b[0m\u001b[0;34m(\u001b[0m\u001b[0mhsi_img_sub\u001b[0m\u001b[0;34m,\u001b[0m \u001b[0mn_comp\u001b[0m \u001b[0;34m=\u001b[0m \u001b[0;36m8\u001b[0m\u001b[0;34m,\u001b[0m \u001b[0mmask\u001b[0m \u001b[0;34m=\u001b[0m \u001b[0mmask_sub\u001b[0m\u001b[0;34m)\u001b[0m\u001b[0;34m\u001b[0m\u001b[0;34m\u001b[0m\u001b[0m\n\u001b[0m",
      "\u001b[0;32m/external/sentinel_share/users/svega/code/hsi_toolkit_py/anomaly_detectors/gmrx_anomaly.py\u001b[0m in \u001b[0;36mgmrx_anomaly\u001b[0;34m(hsi_img, n_comp, mask)\u001b[0m\n\u001b[1;32m     25\u001b[0m         \u001b[0;36m11\u001b[0m\u001b[0;34m/\u001b[0m\u001b[0;36m2018\u001b[0m \u001b[0;34m-\u001b[0m \u001b[0mPython\u001b[0m \u001b[0mImplementation\u001b[0m \u001b[0mby\u001b[0m \u001b[0mYutai\u001b[0m \u001b[0mZhou\u001b[0m\u001b[0;34m\u001b[0m\u001b[0;34m\u001b[0m\u001b[0m\n\u001b[1;32m     26\u001b[0m \t\"\"\"\n\u001b[0;32m---> 27\u001b[0;31m         \u001b[0mgmm_out\u001b[0m\u001b[0;34m,\u001b[0m \u001b[0mkwargsout\u001b[0m \u001b[0;34m=\u001b[0m \u001b[0mimg_det\u001b[0m\u001b[0;34m(\u001b[0m\u001b[0mgmrx_helper\u001b[0m\u001b[0;34m,\u001b[0m \u001b[0mhsi_img\u001b[0m\u001b[0;34m,\u001b[0m \u001b[0;32mNone\u001b[0m\u001b[0;34m,\u001b[0m \u001b[0mmask\u001b[0m\u001b[0;34m,\u001b[0m \u001b[0mn_comp\u001b[0m \u001b[0;34m=\u001b[0m \u001b[0mn_comp\u001b[0m\u001b[0;34m)\u001b[0m\u001b[0;34m\u001b[0m\u001b[0;34m\u001b[0m\u001b[0m\n\u001b[0m\u001b[1;32m     28\u001b[0m         \u001b[0;32mreturn\u001b[0m \u001b[0mgmm_out\u001b[0m\u001b[0;34m\u001b[0m\u001b[0;34m\u001b[0m\u001b[0m\n\u001b[1;32m     29\u001b[0m \u001b[0;34m\u001b[0m\u001b[0m\n",
      "\u001b[0;32m/external/sentinel_share/users/svega/code/hsi_toolkit_py/util/img_det.py\u001b[0m in \u001b[0;36mimg_det\u001b[0;34m(det_func, hsi_img, tgt_sig, mask, **kwargs)\u001b[0m\n\u001b[1;32m     36\u001b[0m \u001b[0;34m\u001b[0m\u001b[0m\n\u001b[1;32m     37\u001b[0m         \u001b[0mdet_data\u001b[0m \u001b[0;34m=\u001b[0m \u001b[0mnp\u001b[0m\u001b[0;34m.\u001b[0m\u001b[0mempty\u001b[0m\u001b[0;34m(\u001b[0m\u001b[0mn_pixels\u001b[0m\u001b[0;34m)\u001b[0m\u001b[0;34m\u001b[0m\u001b[0;34m\u001b[0m\u001b[0m\n\u001b[0;32m---> 38\u001b[0;31m         \u001b[0mdet_data\u001b[0m\u001b[0;34m[\u001b[0m\u001b[0mmask\u001b[0m \u001b[0;34m==\u001b[0m \u001b[0;36m1\u001b[0m\u001b[0;34m]\u001b[0m\u001b[0;34m,\u001b[0m \u001b[0mkwargsout\u001b[0m \u001b[0;34m=\u001b[0m \u001b[0mdet_func\u001b[0m\u001b[0;34m(\u001b[0m\u001b[0mhsi_data\u001b[0m\u001b[0;34m[\u001b[0m\u001b[0;34m:\u001b[0m\u001b[0;34m,\u001b[0m \u001b[0mmask\u001b[0m \u001b[0;34m==\u001b[0m \u001b[0;36m1\u001b[0m\u001b[0;34m]\u001b[0m\u001b[0;34m,\u001b[0m \u001b[0mtgt_sig\u001b[0m\u001b[0;34m,\u001b[0m \u001b[0mkwargs\u001b[0m\u001b[0;34m)\u001b[0m\u001b[0;34m\u001b[0m\u001b[0;34m\u001b[0m\u001b[0m\n\u001b[0m\u001b[1;32m     39\u001b[0m \u001b[0;34m\u001b[0m\u001b[0m\n\u001b[1;32m     40\u001b[0m         \u001b[0;32mif\u001b[0m \u001b[0mlen\u001b[0m\u001b[0;34m(\u001b[0m\u001b[0mkwargsout\u001b[0m\u001b[0;34m)\u001b[0m \u001b[0;34m>\u001b[0m \u001b[0;36m0\u001b[0m\u001b[0;34m:\u001b[0m\u001b[0;34m\u001b[0m\u001b[0;34m\u001b[0m\u001b[0m\n",
      "\u001b[0;31mTypeError\u001b[0m: 'NoneType' object is not iterable"
     ]
    }
   ],
   "source": [
    "gmrx_anomaly(hsi_img_sub, n_comp = 8, mask = mask_sub)"
   ]
  },
  {
   "cell_type": "code",
   "execution_count": 9,
   "metadata": {},
   "outputs": [
    {
     "data": {
      "text/plain": [
       "array([[ 6.28216917e+001,  8.16933700e+001,  1.00883692e+002, ...,\n",
       "         6.95053221e+001,  5.47484751e+001,  8.82255748e+001],\n",
       "       [ 5.91912759e+001,  1.27658836e+002,  9.25811102e+001, ...,\n",
       "         6.93497342e+001,  5.86929345e+001,  8.22430581e+001],\n",
       "       [ 6.53769308e+001,  7.73893482e+001,  6.68423302e+001, ...,\n",
       "         4.39344999e+001,  9.17426574e+001,  4.22180598e+001],\n",
       "       ...,\n",
       "       [ 8.88575511e+001,  7.85657844e+001,  9.15958615e+001, ...,\n",
       "         6.92937154e-310,  6.92936171e-310,  6.92942325e-310],\n",
       "       [ 7.89772295e+001,  7.43546986e+001,  7.96099335e+001, ...,\n",
       "        -1.64557555e+154,  1.30194308e+036, -2.71374421e+228],\n",
       "       [ 9.11204123e+001,  8.19869216e+001,  7.16785272e+001, ...,\n",
       "         6.92936171e-310,  4.66183245e-310,  4.66183245e-310]])"
      ]
     },
     "execution_count": 9,
     "metadata": {},
     "output_type": "execute_result"
    }
   ],
   "source": [
    "md_anomaly(hsi_img_sub, mask_sub)"
   ]
  },
  {
   "cell_type": "code",
   "execution_count": 10,
   "metadata": {},
   "outputs": [
    {
     "data": {
      "text/plain": [
       "array([[0., 0., 0., ..., 0., 0., 0.],\n",
       "       [0., 0., 0., ..., 0., 0., 0.],\n",
       "       [0., 0., 0., ..., 0., 0., 0.],\n",
       "       ...,\n",
       "       [0., 0., 0., ..., 0., 0., 0.],\n",
       "       [0., 0., 0., ..., 0., 0., 0.],\n",
       "       [0., 0., 0., ..., 0., 0., 0.]])"
      ]
     },
     "execution_count": 10,
     "metadata": {},
     "output_type": "execute_result"
    }
   ],
   "source": [
    "rx_anomaly(hsi_img_sub, guard_win, bg_win, mask_sub)"
   ]
  },
  {
   "cell_type": "code",
   "execution_count": 11,
   "metadata": {},
   "outputs": [
    {
     "data": {
      "text/plain": [
       "array([[0., 0., 0., ..., 0., 0., 0.],\n",
       "       [0., 0., 0., ..., 0., 0., 0.],\n",
       "       [0., 0., 0., ..., 0., 0., 0.],\n",
       "       ...,\n",
       "       [0., 0., 0., ..., 0., 0., 0.],\n",
       "       [0., 0., 0., ..., 0., 0., 0.],\n",
       "       [0., 0., 0., ..., 0., 0., 0.]])"
      ]
     },
     "execution_count": 11,
     "metadata": {},
     "output_type": "execute_result"
    }
   ],
   "source": [
    "ssrx_anomaly(hsi_img_sub, n_dim_ss, guard_win, bg_win)"
   ]
  },
  {
   "cell_type": "code",
   "execution_count": null,
   "metadata": {},
   "outputs": [],
   "source": []
  }
 ],
 "metadata": {
  "kernelspec": {
   "display_name": "Python 3 (conda)",
   "language": "python",
   "name": "python3_bioinfo"
  },
  "language_info": {
   "codemirror_mode": {
    "name": "ipython",
    "version": 3
   },
   "file_extension": ".py",
   "mimetype": "text/x-python",
   "name": "python",
   "nbconvert_exporter": "python",
   "pygments_lexer": "ipython3",
   "version": "3.6.7"
  }
 },
 "nbformat": 4,
 "nbformat_minor": 2
}
